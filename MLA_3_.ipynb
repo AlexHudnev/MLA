{
  "nbformat": 4,
  "nbformat_minor": 0,
  "metadata": {
    "colab": {
      "name": "MLA_3_.ipynb",
      "provenance": [],
      "collapsed_sections": [],
      "authorship_tag": "ABX9TyOie1+ayvqF//UpXXJYSY9i",
      "include_colab_link": true
    },
    "kernelspec": {
      "name": "python3",
      "display_name": "Python 3"
    },
    "language_info": {
      "name": "python"
    },
    "widgets": {
      "application/vnd.jupyter.widget-state+json": {
        "7a36471c198f4169aa7c763c5eb273e3": {
          "model_module": "@jupyter-widgets/controls",
          "model_name": "HBoxModel",
          "state": {
            "_view_name": "HBoxView",
            "_dom_classes": [],
            "_model_name": "HBoxModel",
            "_view_module": "@jupyter-widgets/controls",
            "_model_module_version": "1.5.0",
            "_view_count": null,
            "_view_module_version": "1.5.0",
            "box_style": "",
            "layout": "IPY_MODEL_57d8e3f875ef487f8c51b544b65de7c1",
            "_model_module": "@jupyter-widgets/controls",
            "children": [
              "IPY_MODEL_cbd0447a96084ac083e56abbfe4035ef",
              "IPY_MODEL_4794e6de9fb24402adf9d7925a980e16"
            ]
          }
        },
        "57d8e3f875ef487f8c51b544b65de7c1": {
          "model_module": "@jupyter-widgets/base",
          "model_name": "LayoutModel",
          "state": {
            "_view_name": "LayoutView",
            "grid_template_rows": null,
            "right": null,
            "justify_content": null,
            "_view_module": "@jupyter-widgets/base",
            "overflow": null,
            "_model_module_version": "1.2.0",
            "_view_count": null,
            "flex_flow": null,
            "width": null,
            "min_width": null,
            "border": null,
            "align_items": null,
            "bottom": null,
            "_model_module": "@jupyter-widgets/base",
            "top": null,
            "grid_column": null,
            "overflow_y": null,
            "overflow_x": null,
            "grid_auto_flow": null,
            "grid_area": null,
            "grid_template_columns": null,
            "flex": null,
            "_model_name": "LayoutModel",
            "justify_items": null,
            "grid_row": null,
            "max_height": null,
            "align_content": null,
            "visibility": null,
            "align_self": null,
            "height": null,
            "min_height": null,
            "padding": null,
            "grid_auto_rows": null,
            "grid_gap": null,
            "max_width": null,
            "order": null,
            "_view_module_version": "1.2.0",
            "grid_template_areas": null,
            "object_position": null,
            "object_fit": null,
            "grid_auto_columns": null,
            "margin": null,
            "display": null,
            "left": null
          }
        },
        "cbd0447a96084ac083e56abbfe4035ef": {
          "model_module": "@jupyter-widgets/controls",
          "model_name": "FloatProgressModel",
          "state": {
            "_view_name": "ProgressView",
            "style": "IPY_MODEL_e079ba61ded14b148900389a832b613d",
            "_dom_classes": [],
            "description": "Episodes: 100%",
            "_model_name": "FloatProgressModel",
            "bar_style": "success",
            "max": 100,
            "_view_module": "@jupyter-widgets/controls",
            "_model_module_version": "1.5.0",
            "value": 100,
            "_view_count": null,
            "_view_module_version": "1.5.0",
            "orientation": "horizontal",
            "min": 0,
            "description_tooltip": null,
            "_model_module": "@jupyter-widgets/controls",
            "layout": "IPY_MODEL_25705725b43947af8e5db34da1fdb32d"
          }
        },
        "4794e6de9fb24402adf9d7925a980e16": {
          "model_module": "@jupyter-widgets/controls",
          "model_name": "HTMLModel",
          "state": {
            "_view_name": "HTMLView",
            "style": "IPY_MODEL_5ea5795544234c728c5e5b1c0b066d51",
            "_dom_classes": [],
            "description": "",
            "_model_name": "HTMLModel",
            "placeholder": "​",
            "_view_module": "@jupyter-widgets/controls",
            "_model_module_version": "1.5.0",
            "value": " 100/100 [00:06&lt;00:00, 14.33it/s]",
            "_view_count": null,
            "_view_module_version": "1.5.0",
            "description_tooltip": null,
            "_model_module": "@jupyter-widgets/controls",
            "layout": "IPY_MODEL_1b8e4bf6cd994fe898552f1a210dabbe"
          }
        },
        "e079ba61ded14b148900389a832b613d": {
          "model_module": "@jupyter-widgets/controls",
          "model_name": "ProgressStyleModel",
          "state": {
            "_view_name": "StyleView",
            "_model_name": "ProgressStyleModel",
            "description_width": "initial",
            "_view_module": "@jupyter-widgets/base",
            "_model_module_version": "1.5.0",
            "_view_count": null,
            "_view_module_version": "1.2.0",
            "bar_color": null,
            "_model_module": "@jupyter-widgets/controls"
          }
        },
        "25705725b43947af8e5db34da1fdb32d": {
          "model_module": "@jupyter-widgets/base",
          "model_name": "LayoutModel",
          "state": {
            "_view_name": "LayoutView",
            "grid_template_rows": null,
            "right": null,
            "justify_content": null,
            "_view_module": "@jupyter-widgets/base",
            "overflow": null,
            "_model_module_version": "1.2.0",
            "_view_count": null,
            "flex_flow": null,
            "width": null,
            "min_width": null,
            "border": null,
            "align_items": null,
            "bottom": null,
            "_model_module": "@jupyter-widgets/base",
            "top": null,
            "grid_column": null,
            "overflow_y": null,
            "overflow_x": null,
            "grid_auto_flow": null,
            "grid_area": null,
            "grid_template_columns": null,
            "flex": null,
            "_model_name": "LayoutModel",
            "justify_items": null,
            "grid_row": null,
            "max_height": null,
            "align_content": null,
            "visibility": null,
            "align_self": null,
            "height": null,
            "min_height": null,
            "padding": null,
            "grid_auto_rows": null,
            "grid_gap": null,
            "max_width": null,
            "order": null,
            "_view_module_version": "1.2.0",
            "grid_template_areas": null,
            "object_position": null,
            "object_fit": null,
            "grid_auto_columns": null,
            "margin": null,
            "display": null,
            "left": null
          }
        },
        "5ea5795544234c728c5e5b1c0b066d51": {
          "model_module": "@jupyter-widgets/controls",
          "model_name": "DescriptionStyleModel",
          "state": {
            "_view_name": "StyleView",
            "_model_name": "DescriptionStyleModel",
            "description_width": "",
            "_view_module": "@jupyter-widgets/base",
            "_model_module_version": "1.5.0",
            "_view_count": null,
            "_view_module_version": "1.2.0",
            "_model_module": "@jupyter-widgets/controls"
          }
        },
        "1b8e4bf6cd994fe898552f1a210dabbe": {
          "model_module": "@jupyter-widgets/base",
          "model_name": "LayoutModel",
          "state": {
            "_view_name": "LayoutView",
            "grid_template_rows": null,
            "right": null,
            "justify_content": null,
            "_view_module": "@jupyter-widgets/base",
            "overflow": null,
            "_model_module_version": "1.2.0",
            "_view_count": null,
            "flex_flow": null,
            "width": null,
            "min_width": null,
            "border": null,
            "align_items": null,
            "bottom": null,
            "_model_module": "@jupyter-widgets/base",
            "top": null,
            "grid_column": null,
            "overflow_y": null,
            "overflow_x": null,
            "grid_auto_flow": null,
            "grid_area": null,
            "grid_template_columns": null,
            "flex": null,
            "_model_name": "LayoutModel",
            "justify_items": null,
            "grid_row": null,
            "max_height": null,
            "align_content": null,
            "visibility": null,
            "align_self": null,
            "height": null,
            "min_height": null,
            "padding": null,
            "grid_auto_rows": null,
            "grid_gap": null,
            "max_width": null,
            "order": null,
            "_view_module_version": "1.2.0",
            "grid_template_areas": null,
            "object_position": null,
            "object_fit": null,
            "grid_auto_columns": null,
            "margin": null,
            "display": null,
            "left": null
          }
        }
      }
    }
  },
  "cells": [
    {
      "cell_type": "markdown",
      "metadata": {
        "id": "view-in-github",
        "colab_type": "text"
      },
      "source": [
        "<a href=\"https://colab.research.google.com/github/AlexHudnev/mla/blob/main/MLA_3_.ipynb\" target=\"_parent\"><img src=\"https://colab.research.google.com/assets/colab-badge.svg\" alt=\"Open In Colab\"/></a>"
      ]
    },
    {
      "cell_type": "code",
      "metadata": {
        "id": "PwCruxerNaPj"
      },
      "source": [
        "from math import floor, log\n",
        "from itertools import zip_longest\n",
        "\n",
        "def tiles (size, numtilings, floats, ints=[]):\n",
        "    qfloats = [floor(f*numtilings) for f in floats]\n",
        "    Tiles = []\n",
        "    for tiling in range(numtilings):\n",
        "        tilingX2 = tiling*2\n",
        "        coords = [tiling]\n",
        "        b = tiling\n",
        "        for q in qfloats:\n",
        "            coords.append( (q + b) // numtilings )\n",
        "            b += tilingX2\n",
        "        coords.extend(ints)\n",
        "        Tiles.append(hash(tuple(coords)) % size)\n",
        "    return Tiles"
      ],
      "execution_count": null,
      "outputs": []
    },
    {
      "cell_type": "code",
      "metadata": {
        "id": "JtDIFoH0OlH_"
      },
      "source": [
        "import random\n",
        "import math\n",
        "class MountainCar():\n",
        "  def __init__(self):\n",
        "      self.reset()\n",
        "  def reset(self):\n",
        "      self.position = -0.6 + random.random()*0.2\n",
        "      self.velocity = 0.0\n",
        "      return [self.position,self.velocity]\n",
        "\n",
        "  def step(self,A):\n",
        "      if not A in (0,1,2):\n",
        "          print('Invalid action:', A)\n",
        "          raise StandardError\n",
        "      A = A - 1\n",
        "      self.velocity += 0.001*A - 0.0025*math.cos(3*self.position)\n",
        "      self.velocity = min(max(self.velocity, -0.07), 0.07)\n",
        "      self.position += self.velocity\n",
        "      if self.position >= 0.5:\n",
        "          return [self.position,self.velocity], 0\n",
        "      if self.position <= -1.2:\n",
        "          self.position = -1.2\n",
        "          self.velocity = 0.0\n",
        "      return [self.position,self.velocity] , -1"
      ],
      "execution_count": null,
      "outputs": []
    },
    {
      "cell_type": "code",
      "metadata": {
        "id": "XA8Qf5pDNhkB"
      },
      "source": [
        "import numpy as np\n",
        "\n",
        "\n",
        "def get_feature_vector(position, velocity, action):\n",
        "    indices = tiles(32768, 10, [9*position/(1.7), 9*velocity/(0.14)], action)\n",
        "    feature_vector = np.zeros((32768,))\n",
        "    feature_vector[indices] = 1\n",
        "    return feature_vector\n",
        "\n",
        "class Agent(object):\n",
        "    def __init__(self, \n",
        "                 param_vector_size, \n",
        "                 learning_rate, \n",
        "                 epsilon,\n",
        "                 discount):\n",
        "        self.weights = np.zeros((param_vector_size,))\n",
        "        self.action_space = [0, 1, 2]\n",
        "        self.learning_rate = learning_rate\n",
        "        self.discount = discount\n",
        "        self.feature_vector = get_feature_vector(0.0, 0.0, [0])\n",
        "        self.action = [1]\n",
        "        self.epsilon = epsilon\n",
        "        \n",
        "    def step(self, reward, new_state, done):\n",
        "        if done:\n",
        "            self.update_weights(reward, done)\n",
        "        else:\n",
        "            new_action = self.epsilon_greedy(new_state)\n",
        "            new_feature_vector = get_feature_vector(new_state[0], \n",
        "                                                    new_state[1], \n",
        "                                                    new_action)\n",
        "            self.update_weights(reward, done, new_feature_vector)\n",
        "            self.feature_vector = new_feature_vector\n",
        "            self.action = new_action\n",
        "        return self.action\n",
        "        \n",
        "    def epsilon_greedy(self, new_state):\n",
        "        import random\n",
        "        \n",
        "        random_float = random.uniform(0,1.0)\n",
        "        if random_float > (1 - self.epsilon):\n",
        "            action = [random.choice([0,1,2])]\n",
        "        else:\n",
        "            values = []\n",
        "            for action_candidate in self.action_space:\n",
        "                new_feature_vector = get_feature_vector(new_state[0], \n",
        "                                                        new_state[1], \n",
        "                                                        [action_candidate])\n",
        "                values.append(self.compute_value(new_feature_vector))\n",
        "\n",
        "            action = [values.index(max(values))]\n",
        "        return action\n",
        "        \n",
        "    def compute_value(self, feature_vector):\n",
        "        return np.dot(self.weights, feature_vector)\n",
        "    \n",
        "    def update_weights(self, \n",
        "                       reward, \n",
        "                       terminal, \n",
        "                       feature_vector_tp1=np.zeros((32768,))):\n",
        "        if terminal:\n",
        "            error = reward - self.compute_value(self.feature_vector)\n",
        "        else:\n",
        "            error = reward + self.discount * self.compute_value(feature_vector_tp1)- self.compute_value(self.feature_vector)\n",
        "        self.weights += self.learning_rate * error * self.feature_vector\n",
        "\n"
      ],
      "execution_count": null,
      "outputs": []
    },
    {
      "cell_type": "code",
      "metadata": {
        "id": "bXm31o2COL2Q"
      },
      "source": [
        "from tqdm import tqdm_notebook\n",
        "def train(agent, num_episodes=9000):\n",
        "    env = MountainCar()\n",
        "    episode_rewards = []\n",
        "    count_for_done = []\n",
        "    action = [random.choice([0,1,2])]\n",
        "    \n",
        "    for episode in tqdm_notebook(range(num_episodes), 'Episodes'):\n",
        "        ob = env.reset()\n",
        "        episode_rewards_sum = 0\n",
        "        done = False\n",
        "        count = 0\n",
        "    \n",
        "        while not done:\n",
        "            count += 1\n",
        "\n",
        "            new_ob, reward = env.step(action[0])\n",
        "\n",
        "            if reward == 0: done = True\n",
        "            episode_rewards_sum += reward\n",
        "            action = agent.step(reward, new_ob, done)\n",
        "        \n",
        "        episode_rewards.append(episode_rewards_sum)\n",
        "        count_for_done.append(count)\n",
        "        \n",
        "    return episode_rewards, agent, count_for_done"
      ],
      "execution_count": null,
      "outputs": []
    },
    {
      "cell_type": "code",
      "metadata": {
        "colab": {
          "base_uri": "https://localhost:8080/",
          "height": 401,
          "referenced_widgets": [
            "7a36471c198f4169aa7c763c5eb273e3",
            "57d8e3f875ef487f8c51b544b65de7c1",
            "cbd0447a96084ac083e56abbfe4035ef",
            "4794e6de9fb24402adf9d7925a980e16",
            "e079ba61ded14b148900389a832b613d",
            "25705725b43947af8e5db34da1fdb32d",
            "5ea5795544234c728c5e5b1c0b066d51",
            "1b8e4bf6cd994fe898552f1a210dabbe"
          ]
        },
        "id": "Pv2mM90DOMdR",
        "outputId": "5387a3f0-06d4-4f57-e57d-e7c8fb15757a"
      },
      "source": [
        "agent = Agent(param_vector_size=32768,\n",
        "              learning_rate=0.05,\n",
        "              discount=0.9,\n",
        "              epsilon=0.0)\n",
        "episode_rewards, agent, count_for_done = train(agent, num_episodes=100)\n",
        "import matplotlib.pyplot as plt\n",
        "%matplotlib inline \n",
        "\n",
        "plt.plot(episode_rewards)\n",
        "plt.ylabel(\"Rewards\")\n",
        "plt.xlabel(\"Episodes\")"
      ],
      "execution_count": null,
      "outputs": [
        {
          "output_type": "stream",
          "text": [
            "/usr/local/lib/python3.7/dist-packages/ipykernel_launcher.py:8: TqdmDeprecationWarning: This function will be removed in tqdm==5.0.0\n",
            "Please use `tqdm.notebook.tqdm` instead of `tqdm.tqdm_notebook`\n",
            "  \n"
          ],
          "name": "stderr"
        },
        {
          "output_type": "display_data",
          "data": {
            "application/vnd.jupyter.widget-view+json": {
              "model_id": "7a36471c198f4169aa7c763c5eb273e3",
              "version_minor": 0,
              "version_major": 2
            },
            "text/plain": [
              "HBox(children=(FloatProgress(value=0.0, description='Episodes', style=ProgressStyle(description_width='initial…"
            ]
          },
          "metadata": {
            "tags": []
          }
        },
        {
          "output_type": "stream",
          "text": [
            "\n"
          ],
          "name": "stdout"
        },
        {
          "output_type": "execute_result",
          "data": {
            "text/plain": [
              "Text(0.5, 0, 'Episodes')"
            ]
          },
          "metadata": {
            "tags": []
          },
          "execution_count": 64
        },
        {
          "output_type": "display_data",
          "data": {
            "image/png": "[encoded data removed]",
            "text/plain": [
              "<Figure size 432x288 with 1 Axes>"
            ]
          },
          "metadata": {
            "tags": [],
            "needs_background": "light"
          }
        }
      ]
    },
    {
      "cell_type": "code",
      "metadata": {
        "colab": {
          "base_uri": "https://localhost:8080/",
          "height": 300
        },
        "id": "3mFqpyIihV7k",
        "outputId": "ec75c1c4-2a35-4da4-ce1d-f2f6990d1b7c"
      },
      "source": [
        "plt.plot(count_for_done)\n",
        "plt.ylabel(\"Count\")\n",
        "plt.xlabel(\"Episodes\")\n",
        "print(count_for_done[-1])"
      ],
      "execution_count": null,
      "outputs": [
        {
          "output_type": "stream",
          "text": [
            "147\n"
          ],
          "name": "stdout"
        },
        {
          "output_type": "display_data",
          "data": {
            "image/png": "[encoded data removed]",
            "text/plain": [
              "<Figure size 432x288 with 1 Axes>"
            ]
          },
          "metadata": {
            "tags": [],
            "needs_background": "light"
          }
        }
      ]
    }
  ]
}